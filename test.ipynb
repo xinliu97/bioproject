{
 "cells": [
  {
   "cell_type": "code",
   "execution_count": 1,
   "outputs": [
    {
     "name": "stderr",
     "output_type": "stream",
     "text": [
      "/opt/homebrew/anaconda3/envs/test/lib/python3.10/site-packages/coniii/samplers.py:381: NumbaDeprecationWarning: The 'nopython' keyword argument was not supplied to the 'numba.jit' decorator. The implicit default value for this argument is currently False, but it will be changed to True in Numba 0.59.0. See https://numba.readthedocs.io/en/stable/reference/deprecation.html#deprecation-of-object-mode-fall-back-behaviour-when-using-jit for details.\n",
      "  def iterate_neighbors(n,ix,expdJ,r):\n",
      "/opt/homebrew/anaconda3/envs/test/lib/python3.10/site-packages/coniii/samplers.py:2342: NumbaDeprecationWarning: The 'nopython' keyword argument was not supplied to the 'numba.jit' decorator. The implicit default value for this argument is currently False, but it will be changed to True in Numba 0.59.0. See https://numba.readthedocs.io/en/stable/reference/deprecation.html#deprecation-of-object-mode-fall-back-behaviour-when-using-jit for details.\n",
      "  def cross(vec1, vec2):\n"
     ]
    }
   ],
   "source": [
    "from coniii import *\n",
    "from process_input import fish_input_process\n"
   ],
   "metadata": {
    "collapsed": false
   }
  },
  {
   "cell_type": "code",
   "execution_count": 2,
   "outputs": [],
   "source": [
    "TIME = 3600"
   ],
   "metadata": {
    "collapsed": false
   }
  },
  {
   "cell_type": "code",
   "execution_count": 3,
   "outputs": [
    {
     "name": "stdout",
     "output_type": "stream",
     "text": [
      "(3600, 91)\n",
      "(3600, 91)\n"
     ]
    }
   ],
   "source": [
    "file = 'false_data.csv'\n",
    "import pandas as pd\n",
    "#read in data\n",
    "data = pd.read_csv(file, header=None)\n",
    "\n",
    "print(data.shape)\n",
    "\n",
    "\n",
    "samples = fish_input_process(file,time=TIME)\n",
    "\n",
    "print(samples.shape)\n",
    "FISH_N = samples.shape[0]\n",
    "FISH_N_PAIRS = int(FISH_N * (FISH_N - 1) / 2)"
   ],
   "metadata": {
    "collapsed": false
   }
  },
  {
   "cell_type": "code",
   "execution_count": 3,
   "outputs": [],
   "source": [],
   "metadata": {
    "collapsed": false
   }
  },
  {
   "cell_type": "code",
   "execution_count": 4,
   "outputs": [
    {
     "data": {
      "text/plain": "<matplotlib.image.AxesImage at 0x144013670>"
     },
     "execution_count": 4,
     "metadata": {},
     "output_type": "execute_result"
    },
    {
     "data": {
      "text/plain": "<Figure size 640x480 with 1 Axes>",
      "image/png": "[encoded data removed]"
     },
     "metadata": {},
     "output_type": "display_data"
    }
   ],
   "source": [
    "import matplotlib.pyplot as plt\n",
    "plt.figure(figsize=(8, 6), dpi=80)\n",
    "plt.imshow(samples, aspect=\"auto\", cmap=\"gray_r\", interpolation=\"none\")"
   ],
   "metadata": {
    "collapsed": false
   }
  },
  {
   "cell_type": "code",
   "execution_count": 3,
   "outputs": [
    {
     "name": "stdout",
     "output_type": "stream",
     "text": [
      "['/opt/homebrew/anaconda3/envs/test/lib/python3.10/site-packages/coniii']\n"
     ]
    }
   ],
   "source": [],
   "metadata": {
    "collapsed": false
   }
  },
  {
   "cell_type": "code",
   "execution_count": 5,
   "outputs": [
    {
     "name": "stdout",
     "output_type": "stream",
     "text": [
      "CPUDispatcher(<function define_ising_helper_functions.<locals>.calc_e at 0x144158430>)\n",
      "CPUDispatcher(<function define_ising_helper_functions.<locals>.calc_observables at 0x1441581f0>)\n",
      "<function define_ising_helper_functions.<locals>.mch_approximation at 0x1440b9120>\n"
     ]
    }
   ],
   "source": [
    "calc_e, calc_observables, mchApproximation = define_ising_helper_functions()\n",
    "print(calc_e)\n",
    "print(calc_observables)\n",
    "print(mchApproximation)"
   ],
   "metadata": {
    "collapsed": false
   }
  },
  {
   "cell_type": "code",
   "execution_count": 5,
   "outputs": [],
   "source": [],
   "metadata": {
    "collapsed": false
   }
  },
  {
   "cell_type": "code",
   "execution_count": null,
   "outputs": [
    {
     "name": "stderr",
     "output_type": "stream",
     "text": [
      "/opt/homebrew/anaconda3/envs/test/lib/python3.10/site-packages/coniii/solvers.py:96: UserWarning: Assuming that calc_observables should be for Ising model.\n",
      "  if iprint: warn(\"Assuming that calc_observables should be for Ising model.\")\n",
      "/opt/homebrew/anaconda3/envs/test/lib/python3.10/site-packages/coniii/solvers.py:105: UserWarning: Some pairwise correlations have magnitude close to one. Potential for poor solutions from diverging parameters.\n",
      "  warn(msg)\n",
      "/opt/homebrew/anaconda3/envs/test/lib/python3.10/site-packages/coniii/samplers.py:1187: UserWarning: Boost C++ implementation not available. Defaulting to slower sampling methods.\n",
      "  warn(\"Boost C++ implementation not available. Defaulting to slower sampling methods.\")\n"
     ]
    },
    {
     "name": "stdout",
     "output_type": "stream",
     "text": [
      "adaptiveClusterExpansion: Clusters of size 2\n"
     ]
    },
    {
     "name": "stderr",
     "output_type": "stream",
     "text": [
      "/opt/homebrew/anaconda3/envs/test/lib/python3.10/site-packages/scipy/optimize/_minpack_py.py:492: RuntimeWarning: Number of calls to function has reached maxfev = 800.\n",
      "  warnings.warn(errors[info][0], RuntimeWarning)\n",
      "/opt/homebrew/anaconda3/envs/test/lib/python3.10/site-packages/numpy/lib/scimath.py:296: RuntimeWarning: divide by zero encountered in log\n",
      "  return nx.log(x)\n",
      "/opt/homebrew/anaconda3/envs/test/lib/python3.10/site-packages/coniii/mean_field_ising.py:574: RuntimeWarning: invalid value encountered in subtract\n",
      "  JnoDiag = J - scipy.diag(h)\n",
      "/opt/homebrew/anaconda3/envs/test/lib/python3.10/site-packages/coniii/solvers.py:2263: RuntimeWarning: divide by zero encountered in log\n",
      "  h = -np.log(freqs/(1.-freqs))\n",
      "/opt/homebrew/anaconda3/envs/test/lib/python3.10/site-packages/coniii/solvers.py:2267: RuntimeWarning: divide by zero encountered in log\n",
      "  Sinds = -freqs*np.log(freqs) - (1.-freqs)*np.log(1.-freqs)\n",
      "/opt/homebrew/anaconda3/envs/test/lib/python3.10/site-packages/coniii/solvers.py:2267: RuntimeWarning: invalid value encountered in multiply\n",
      "  Sinds = -freqs*np.log(freqs) - (1.-freqs)*np.log(1.-freqs)\n",
      "/opt/homebrew/anaconda3/envs/test/lib/python3.10/site-packages/coniii/solvers.py:2336: RuntimeWarning: invalid value encountered in subtract\n",
      "  deltaJcluster -= J0cluster\n"
     ]
    }
   ],
   "source": [
    "solver = ClusterExpansion(samples.T)\n",
    "\n",
    "multipliers, ent, clusters, deltaSdict, deltaJdict= solver.solve(threshold=0.1, full_output=True)"
   ],
   "metadata": {
    "collapsed": false,
    "pycharm": {
     "is_executing": true
    }
   }
  },
  {
   "cell_type": "code",
   "execution_count": null,
   "outputs": [],
   "source": [
    "J = multipliers[FISH_N:]\n",
    "\n",
    "# 创建一个 N*N 的零矩阵\n",
    "matrix = np.zeros((FISH_N, FISH_N))\n",
    "\n",
    "# # 使用数组的前N个元素填充对角线\n",
    "# matrix[np.diag_indices(FISH_N)] = multipliers[:FISH_N]\n",
    "\n",
    "# 使用数组的后N+2(N*N-1)个元素填充上半矩阵\n",
    "index = FISH_N\n",
    "for i in range(FISH_N):\n",
    "    for j in range(i+1, FISH_N):\n",
    "        matrix[i, j] = multipliers[index]\n",
    "        index += 1\n",
    "# 获取上半矩阵（包含对角线）\n",
    "upper_matrix = np.triu(matrix)\n",
    "\n",
    "# 转置上半矩阵并将其添加到下半部分\n",
    "lower_matrix = np.transpose(upper_matrix)\n",
    "lower_matrix = np.tril(lower_matrix, -1)\n",
    "\n",
    "# 将上半矩阵和转置的下半矩阵相加得到完整的矩阵\n",
    "final_matrix = upper_matrix + lower_matrix"
   ],
   "metadata": {
    "collapsed": false,
    "pycharm": {
     "is_executing": true
    }
   }
  },
  {
   "cell_type": "code",
   "execution_count": null,
   "outputs": [],
   "source": [
    "#plot imshow and add lines\n",
    "plt.imshow(final_matrix, aspect=\"auto\", cmap=\"gray\")\n",
    "ax = plt.gca() # 获取当前的坐标轴\n",
    "ax.set_xticks([x-0.5 for x in range(1, final_matrix.shape[1])], minor=True) # 设置x轴的小刻度\n",
    "ax.set_yticks([y-0.5 for y in range(1, final_matrix.shape[0])], minor=True) # 设置y轴的小刻度\n",
    "plt.grid(which='minor', linestyle='-', linewidth=2)\n",
    "plt.colorbar()"
   ],
   "metadata": {
    "collapsed": false,
    "pycharm": {
     "is_executing": true
    }
   }
  }
 ],
 "metadata": {
  "kernelspec": {
   "display_name": "Python 3",
   "language": "python",
   "name": "python3"
  },
  "language_info": {
   "codemirror_mode": {
    "name": "ipython",
    "version": 2
   },
   "file_extension": ".py",
   "mimetype": "text/x-python",
   "name": "python",
   "nbconvert_exporter": "python",
   "pygments_lexer": "ipython2",
   "version": "2.7.6"
  }
 },
 "nbformat": 4,
 "nbformat_minor": 0
}
